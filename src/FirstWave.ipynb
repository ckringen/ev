{
 "cells": [
  {
   "cell_type": "code",
   "execution_count": 2,
   "metadata": {
    "collapsed": true
   },
   "outputs": [],
   "source": [
    "import pandas as pd\n",
    "import numpy as np\n",
    "import matplotlib.pyplot as plt\n",
    "% matplotlib inline"
   ]
  },
  {
   "cell_type": "code",
   "execution_count": 3,
   "metadata": {
    "collapsed": false
   },
   "outputs": [
    {
     "name": "stdout",
     "output_type": "stream",
     "text": [
      "   Unnamed: 0        MTurk ID  Sentence Number  List Number  Subset Number  \\\n",
      "0           1  A30RAYNDOWQ61S               56            3              2   \n",
      "1           2  A30RAYNDOWQ61S               51            3              2   \n",
      "2           3  A30RAYNDOWQ61S               91            3              2   \n",
      "3           4  A30RAYNDOWQ61S               58            3              2   \n",
      "4           5  A30RAYNDOWQ61S               83            3              2   \n",
      "5           6  A30RAYNDOWQ61S               67            3              2   \n",
      "6           7  A30RAYNDOWQ61S               94            3              2   \n",
      "7           8  A30RAYNDOWQ61S               70            3              2   \n",
      "8           9  A30RAYNDOWQ61S               54            3              2   \n",
      "9          10  A30RAYNDOWQ61S               62            3              2   \n",
      "\n",
      "   Trial Number                                    Target Sentence  \\\n",
      "0             2  the blast shattered the windows of the villa a...   \n",
      "1             3  the equipment was often moved quickly when ins...   \n",
      "2             4  evidence from abroad showed students were prep...   \n",
      "3             5  south africa has openly expressed willingness ...   \n",
      "4             6  the regular bus service had been suspended bec...   \n",
      "5             7  he did not say how long the president would st...   \n",
      "6             8  the doctors and nurses caring for him will be ...   \n",
      "7             9  her future appears as enticing as the illustri...   \n",
      "8            10  the mountainous regions of tiny vietnam are no...   \n",
      "9            11  japan imports the majority of its crude oil fr...   \n",
      "\n",
      "                                  Scrambled Sentence  \\\n",
      "0  neighbouring windows shattered the other the h...   \n",
      "1  the to quickly equipment inspectors moved were...   \n",
      "2  showed students large to were out loans eviden...   \n",
      "3  with openly africa establish china to has sout...   \n",
      "4  been suspended bus because fuel the the servic...   \n",
      "5  president the on would long not did how say st...   \n",
      "6  kept observation will nurses be the caring for...   \n",
      "7  draws appears she enticing illustrious past th...   \n",
      "8  the of great as not are mountainous regions ti...   \n",
      "9  middle from of east crude majority oil imports...   \n",
      "\n",
      "                                   Produced Sentence  Time (ms)  \\\n",
      "0  the blast shattered the windows of the villa a...     117637   \n",
      "1  equipment was often quickly moved when the ins...     513810   \n",
      "2  evidence showed students from abroad were prep...      78273   \n",
      "3  south africa has expressed willingness to open...      85852   \n",
      "4  the regular bus service had been suspended bec...      75546   \n",
      "5  the president did not say how long he would st...     117802   \n",
      "6  the doctors and nurses caring for him will be ...     363426   \n",
      "7  as she draws from her illustrious past the fut...     648087   \n",
      "8  the great mountainous regions of vietnam are n...      75429   \n",
      "9  japan imports the majority of its crude oil fr...      36716   \n",
      "\n",
      "            Time Bugged ProdMatchesOrig  proportionMatchingBigram  editDist  \\\n",
      "0   1 min 57 sec   Safe            True                  1.000000         0   \n",
      "1   8 min 33 sec   Safe           False                  0.545455        20   \n",
      "2   1 min 18 sec   Safe           False                  0.727273        24   \n",
      "3   1 min 25 sec   Safe           False                  0.727273        14   \n",
      "4   1 min 15 sec   Safe            True                  1.000000         0   \n",
      "5   1 min 57 sec   Safe           False                  0.727273        22   \n",
      "6    6 min 3 sec   Safe            True                  1.000000         0   \n",
      "7  10 min 48 sec   Safe           False                  0.545455        52   \n",
      "8   1 min 15 sec   Safe           False                  0.545455        16   \n",
      "9         36 sec   Safe            True                  1.000000         0   \n",
      "\n",
      "                                                 lcs  \\\n",
      "0  the blast shattered the windows of the villa a...   \n",
      "1                    inspectors were about to arrive   \n",
      "2              were prepared to take out large loans   \n",
      "3               establish diplomatic ties with china   \n",
      "4  the regular bus service had been suspended bec...   \n",
      "5                              did not say how long    \n",
      "6  the doctors and nurses caring for him will be ...   \n",
      "7                         future appears as enticing   \n",
      "8                            mountainous regions of    \n",
      "9  japan imports the majority of its crude oil fr...   \n",
      "\n",
      "                                       deltaDistance  \n",
      "0                                                 []  \n",
      "1             [(['quickly'], 0.2), (['moved'], 0.2)]  \n",
      "2         [(['students'], 0.25), (['abroad'], 0.25)]  \n",
      "3  [(['expressed willingness'], 0.25), (['openly'...  \n",
      "4                                                 []  \n",
      "5                                                 []  \n",
      "6                                                 []  \n",
      "7                                                 []  \n",
      "8              [(['vietnam'], 0.2), (['tiny'], 0.2)]  \n",
      "9                                                 []  \n",
      "['Unnamed: 0', 'MTurk ID', 'Sentence Number', 'List Number', 'Subset Number', 'Trial Number', 'Target Sentence', 'Scrambled Sentence', 'Produced Sentence', 'Time (ms)', 'Time', 'Bugged', 'ProdMatchesOrig', 'proportionMatchingBigram', 'editDist', 'lcs', 'deltaDistance']\n",
      "491198\n"
     ]
    }
   ],
   "source": [
    "# basic data processing and cleaning\n",
    "# note: we manually changed the header line of the csv,\n",
    "# removing the spaces between commas and modifying the last column name\n",
    "\n",
    "data = pd.read_csv(\"../data/analyzed_data.tsv\", sep=\"\\t\")\n",
    "\n",
    "print(data[:10])\n",
    "print(list(data.columns.values))\n",
    "print(np.size(data))\n",
    "\n"
   ]
  },
  {
   "cell_type": "markdown",
   "metadata": {},
   "source": [
    "# Timing Data"
   ]
  },
  {
   "cell_type": "code",
   "execution_count": 16,
   "metadata": {
    "collapsed": false
   },
   "outputs": [
    {
     "data": {
      "text/plain": [
       "{'boxes': [<matplotlib.lines.Line2D at 0x7fe3c47c24e0>],\n",
       " 'caps': [<matplotlib.lines.Line2D at 0x7fe3c46718d0>,\n",
       "  <matplotlib.lines.Line2D at 0x7fe3c46756a0>],\n",
       " 'fliers': [<matplotlib.lines.Line2D at 0x7fe3c4601390>],\n",
       " 'means': [],\n",
       " 'medians': [<matplotlib.lines.Line2D at 0x7fe3c4675828>],\n",
       " 'whiskers': [<matplotlib.lines.Line2D at 0x7fe3c45eef28>,\n",
       "  <matplotlib.lines.Line2D at 0x7fe3c4671438>]}"
      ]
     },
     "execution_count": 16,
     "metadata": {},
     "output_type": "execute_result"
    },
    {
     "data": {
      "image/png": "[encoded data removed]",
      "text/plain": [
       "<matplotlib.figure.Figure at 0x7fe3c4188f98>"
      ]
     },
     "metadata": {},
     "output_type": "display_data"
    }
   ],
   "source": [
    "fig = plt.figure(figsize=(10,10))\n",
    "\n",
    "time = data['Time (ms)']\n",
    "\n",
    "x = plt.hist(time,bins=150)\n",
    "plt.boxplot(time)"
   ]
  },
  {
   "cell_type": "markdown",
   "metadata": {},
   "source": [
    "## Matching Original"
   ]
  },
  {
   "cell_type": "code",
   "execution_count": 17,
   "metadata": {
    "collapsed": false
   },
   "outputs": [
    {
     "data": {
      "text/plain": [
       "ProdMatchesOrig\n",
       "False    21600\n",
       "True      7294\n",
       "dtype: int64"
      ]
     },
     "execution_count": 17,
     "metadata": {},
     "output_type": "execute_result"
    }
   ],
   "source": [
    "data.groupby('ProdMatchesOrig').size()"
   ]
  },
  {
   "cell_type": "markdown",
   "metadata": {},
   "source": [
    "## Longest Common Substring"
   ]
  },
  {
   "cell_type": "code",
   "execution_count": 23,
   "metadata": {
    "collapsed": false
   },
   "outputs": [
    {
     "data": {
      "image/png": "[encoded data removed]",
      "text/plain": [
       "<matplotlib.figure.Figure at 0x7fe3c511c2e8>"
      ]
     },
     "metadata": {},
     "output_type": "display_data"
    }
   ],
   "source": [
    "def lengthLCS(dataframe_row):\n",
    "    return len(dataframe_row['lcs'])\n",
    "\n",
    "lenLCS = data.apply(lengthLCS, axis=1)   \n",
    "\n",
    "fig = plt.figure(figsize=(10,10))\n",
    "\n",
    "x = plt.hist(lenLCS,bins=50)\n",
    "#plt.boxplot(lenLCS)"
   ]
  },
  {
   "cell_type": "markdown",
   "metadata": {},
   "source": [
    "## Edit Distance"
   ]
  },
  {
   "cell_type": "code",
   "execution_count": 24,
   "metadata": {
    "collapsed": false
   },
   "outputs": [
    {
     "data": {
      "image/png": "[encoded data removed]",
      "text/plain": [
       "<matplotlib.figure.Figure at 0x7fe3c4179550>"
      ]
     },
     "metadata": {},
     "output_type": "display_data"
    }
   ],
   "source": [
    "fig = plt.figure(figsize=(10,10))\n",
    "\n",
    "x = plt.hist(data['editDist'],bins=50)\n",
    "#plt.boxplot(lenLCS)"
   ]
  },
  {
   "cell_type": "code",
   "execution_count": null,
   "metadata": {
    "collapsed": true
   },
   "outputs": [],
   "source": []
  }
 ],
 "metadata": {
  "kernelspec": {
   "display_name": "Python 3",
   "language": "python",
   "name": "python3"
  },
  "language_info": {
   "codemirror_mode": {
    "name": "ipython",
    "version": 3
   },
   "file_extension": ".py",
   "mimetype": "text/x-python",
   "name": "python",
   "nbconvert_exporter": "python",
   "pygments_lexer": "ipython3",
   "version": "3.5.0"
  }
 },
 "nbformat": 4,
 "nbformat_minor": 0
}
